{
 "cells": [
  {
   "cell_type": "code",
   "execution_count": 6,
   "metadata": {},
   "outputs": [],
   "source": [
    "import pandas as pd\n",
    "import geopandas as gpd\n",
    "import contextily as ctx\n",
    "import matplotlib.pyplot as plt\n",
    "\n",
    "afford0 = gpd.read_file('HCIDLA Affordable Housing Projects(2003-Present).geojson')\n",
    "enviro0 = pd.read_excel ('CAenviroScore.xlsx')"
   ]
  },
  {
   "cell_type": "code",
   "execution_count": 7,
   "metadata": {},
   "outputs": [],
   "source": [
    "ecol = ['Census Tract',\n",
    " 'Total Population',\n",
    " 'California County',\n",
    " 'ZIP',\n",
    " 'Nearby City \\n(to help approximate location only)',\n",
    " 'Longitude',\n",
    " 'Latitude',\n",
    " 'CES 3.0 Score',\n",
    " ' CES 3.0 Percentile',\n",
    " 'CES 3.0 \\nPercentile Range',\n",
    " 'SB 535 Disadvantaged Community']"
   ]
  },
  {
   "cell_type": "code",
   "execution_count": 8,
   "metadata": {},
   "outputs": [],
   "source": [
    "enviro = enviro0[ecol]"
   ]
  },
  {
   "cell_type": "code",
   "execution_count": 9,
   "metadata": {},
   "outputs": [
    {
     "data": {
      "text/plain": [
       "(8035, 11)"
      ]
     },
     "execution_count": 9,
     "metadata": {},
     "output_type": "execute_result"
    }
   ],
   "source": [
    "enviro.shape"
   ]
  },
  {
   "cell_type": "code",
   "execution_count": 10,
   "metadata": {},
   "outputs": [
    {
     "data": {
      "text/plain": [
       "(8035, 57)"
      ]
     },
     "execution_count": 10,
     "metadata": {},
     "output_type": "execute_result"
    }
   ],
   "source": [
    "enviro0.shape"
   ]
  },
  {
   "cell_type": "code",
   "execution_count": 12,
   "metadata": {},
   "outputs": [],
   "source": [
    "enla = enviro.loc[enviro['California County'] == 'Los Angeles']"
   ]
  },
  {
   "cell_type": "code",
   "execution_count": 13,
   "metadata": {},
   "outputs": [
    {
     "data": {
      "text/plain": [
       "(2343, 11)"
      ]
     },
     "execution_count": 13,
     "metadata": {},
     "output_type": "execute_result"
    }
   ],
   "source": [
    "enla.shape"
   ]
  },
  {
   "cell_type": "code",
   "execution_count": 14,
   "metadata": {},
   "outputs": [],
   "source": [
    "enla = enla.loc[enviro['CES 3.0 Score'] > 0]"
   ]
  },
  {
   "cell_type": "code",
   "execution_count": 15,
   "metadata": {},
   "outputs": [
    {
     "data": {
      "text/plain": [
       "(2298, 11)"
      ]
     },
     "execution_count": 15,
     "metadata": {},
     "output_type": "execute_result"
    }
   ],
   "source": [
    "enla.shape"
   ]
  },
  {
   "cell_type": "code",
   "execution_count": 16,
   "metadata": {},
   "outputs": [
    {
     "data": {
      "text/plain": [
       "36.493198440421985"
      ]
     },
     "execution_count": 16,
     "metadata": {},
     "output_type": "execute_result"
    }
   ],
   "source": [
    "enla['CES 3.0 Score'].mean()"
   ]
  },
  {
   "cell_type": "code",
   "execution_count": 17,
   "metadata": {},
   "outputs": [
    {
     "data": {
      "text/html": [
       "<div>\n",
       "<style scoped>\n",
       "    .dataframe tbody tr th:only-of-type {\n",
       "        vertical-align: middle;\n",
       "    }\n",
       "\n",
       "    .dataframe tbody tr th {\n",
       "        vertical-align: top;\n",
       "    }\n",
       "\n",
       "    .dataframe thead th {\n",
       "        text-align: right;\n",
       "    }\n",
       "</style>\n",
       "<table border=\"1\" class=\"dataframe\">\n",
       "  <thead>\n",
       "    <tr style=\"text-align: right;\">\n",
       "      <th></th>\n",
       "      <th>Census Tract</th>\n",
       "      <th>Total Population</th>\n",
       "      <th>California County</th>\n",
       "      <th>ZIP</th>\n",
       "      <th>Nearby City \\n(to help approximate location only)</th>\n",
       "      <th>Longitude</th>\n",
       "      <th>Latitude</th>\n",
       "      <th>CES 3.0 Score</th>\n",
       "      <th>CES 3.0 Percentile</th>\n",
       "      <th>CES 3.0 \\nPercentile Range</th>\n",
       "      <th>SB 535 Disadvantaged Community</th>\n",
       "    </tr>\n",
       "  </thead>\n",
       "  <tbody>\n",
       "    <tr>\n",
       "      <th>5</th>\n",
       "      <td>6037204920</td>\n",
       "      <td>2598</td>\n",
       "      <td>Los Angeles</td>\n",
       "      <td>90023</td>\n",
       "      <td>Los Angeles</td>\n",
       "      <td>-118.197497</td>\n",
       "      <td>34.017500</td>\n",
       "      <td>80.726872</td>\n",
       "      <td>99.936940</td>\n",
       "      <td>95-100% (highest scores)</td>\n",
       "      <td>Yes</td>\n",
       "    </tr>\n",
       "    <tr>\n",
       "      <th>8</th>\n",
       "      <td>6037206050</td>\n",
       "      <td>2146</td>\n",
       "      <td>Los Angeles</td>\n",
       "      <td>90023</td>\n",
       "      <td>Los Angeles</td>\n",
       "      <td>-118.224453</td>\n",
       "      <td>34.029904</td>\n",
       "      <td>79.025293</td>\n",
       "      <td>99.899105</td>\n",
       "      <td>95-100% (highest scores)</td>\n",
       "      <td>Yes</td>\n",
       "    </tr>\n",
       "    <tr>\n",
       "      <th>14</th>\n",
       "      <td>6037205120</td>\n",
       "      <td>3618</td>\n",
       "      <td>Los Angeles</td>\n",
       "      <td>90023</td>\n",
       "      <td>Los Angeles</td>\n",
       "      <td>-118.211796</td>\n",
       "      <td>34.018755</td>\n",
       "      <td>78.043685</td>\n",
       "      <td>99.823433</td>\n",
       "      <td>95-100% (highest scores)</td>\n",
       "      <td>Yes</td>\n",
       "    </tr>\n",
       "    <tr>\n",
       "      <th>16</th>\n",
       "      <td>6037291220</td>\n",
       "      <td>3353</td>\n",
       "      <td>Los Angeles</td>\n",
       "      <td>90247</td>\n",
       "      <td>Gardena</td>\n",
       "      <td>-118.286709</td>\n",
       "      <td>33.877139</td>\n",
       "      <td>77.497763</td>\n",
       "      <td>99.798209</td>\n",
       "      <td>95-100% (highest scores)</td>\n",
       "      <td>Yes</td>\n",
       "    </tr>\n",
       "    <tr>\n",
       "      <th>20</th>\n",
       "      <td>6037239202</td>\n",
       "      <td>4724</td>\n",
       "      <td>Los Angeles</td>\n",
       "      <td>90001</td>\n",
       "      <td>Los Angeles</td>\n",
       "      <td>-118.264977</td>\n",
       "      <td>33.985678</td>\n",
       "      <td>76.043426</td>\n",
       "      <td>99.747761</td>\n",
       "      <td>95-100% (highest scores)</td>\n",
       "      <td>Yes</td>\n",
       "    </tr>\n",
       "  </tbody>\n",
       "</table>\n",
       "</div>"
      ],
      "text/plain": [
       "    Census Tract  Total Population California County    ZIP  \\\n",
       "5     6037204920              2598       Los Angeles  90023   \n",
       "8     6037206050              2146       Los Angeles  90023   \n",
       "14    6037205120              3618       Los Angeles  90023   \n",
       "16    6037291220              3353       Los Angeles  90247   \n",
       "20    6037239202              4724       Los Angeles  90001   \n",
       "\n",
       "   Nearby City \\n(to help approximate location only)   Longitude   Latitude  \\\n",
       "5                                        Los Angeles -118.197497  34.017500   \n",
       "8                                        Los Angeles -118.224453  34.029904   \n",
       "14                                       Los Angeles -118.211796  34.018755   \n",
       "16                                           Gardena -118.286709  33.877139   \n",
       "20                                       Los Angeles -118.264977  33.985678   \n",
       "\n",
       "    CES 3.0 Score   CES 3.0 Percentile CES 3.0 \\nPercentile Range  \\\n",
       "5       80.726872            99.936940   95-100% (highest scores)   \n",
       "8       79.025293            99.899105   95-100% (highest scores)   \n",
       "14      78.043685            99.823433   95-100% (highest scores)   \n",
       "16      77.497763            99.798209   95-100% (highest scores)   \n",
       "20      76.043426            99.747761   95-100% (highest scores)   \n",
       "\n",
       "   SB 535 Disadvantaged Community  \n",
       "5                             Yes  \n",
       "8                             Yes  \n",
       "14                            Yes  \n",
       "16                            Yes  \n",
       "20                            Yes  "
      ]
     },
     "execution_count": 17,
     "metadata": {},
     "output_type": "execute_result"
    }
   ],
   "source": [
    "enla.head()"
   ]
  },
  {
   "cell_type": "code",
   "execution_count": 18,
   "metadata": {},
   "outputs": [
    {
     "data": {
      "text/plain": [
       "<matplotlib.axes._subplots.AxesSubplot at 0x7f6837550340>"
      ]
     },
     "execution_count": 18,
     "metadata": {},
     "output_type": "execute_result"
    },
    {
     "data": {
      "image/png": "[encoded data removed]",
      "text/plain": [
       "<Figure size 432x288 with 1 Axes>"
      ]
     },
     "metadata": {
      "needs_background": "light"
     },
     "output_type": "display_data"
    }
   ],
   "source": [
    "enla['CES 3.0 Score'].plot.hist(bins =50)"
   ]
  },
  {
   "cell_type": "code",
   "execution_count": 27,
   "metadata": {},
   "outputs": [
    {
     "data": {
      "image/png": "[encoded data removed]",
      "text/plain": [
       "<Figure size 432x288 with 1 Axes>"
      ]
     },
     "metadata": {
      "needs_background": "light"
     },
     "output_type": "display_data"
    }
   ],
   "source": [
    "# An \"interface\" to matplotlib.axes.Axes.hist() method\n",
    "n, bins, patches = plt.hist(x=enla['CES 3.0 Score'], bins='auto', color='#0504aa',\n",
    "                            alpha=0.7, rwidth=0.85)\n",
    "plt.grid(axis='y', alpha=0.75)\n",
    "plt.xlabel('CES Score')\n",
    "plt.ylabel('Frequency')\n",
    "plt.title('Distribution of CES Scores among LA Census Tracts')\n",
    "plt.text(68, 50, r'mean=36.5')\n",
    "maxfreq = n.max()"
   ]
  },
  {
   "cell_type": "markdown",
   "metadata": {},
   "source": [
    "This shows how there is great variation in LA county in regards to environmental risks by location"
   ]
  },
  {
   "cell_type": "code",
   "execution_count": 28,
   "metadata": {},
   "outputs": [],
   "source": [
    "acol = ['site_units',\n",
    " 'community',\n",
    " 'name',\n",
    " 'leverage',\n",
    " 'latitude',\n",
    " 'project_number',\n",
    " 'hcidla_funded',\n",
    " 'gps_coords',\n",
    " 'longitude',\n",
    " 'date_funded',\n",
    " 'construction_type',\n",
    " 'in_service_date',\n",
    " 'address',\n",
    " 'project_total_units',\n",
    " 'housing_type']"
   ]
  },
  {
   "cell_type": "code",
   "execution_count": 29,
   "metadata": {},
   "outputs": [],
   "source": [
    "afford = afford0[acol]"
   ]
  },
  {
   "cell_type": "code",
   "execution_count": 31,
   "metadata": {},
   "outputs": [
    {
     "data": {
      "text/plain": [
       "(503, 15)"
      ]
     },
     "execution_count": 31,
     "metadata": {},
     "output_type": "execute_result"
    }
   ],
   "source": [
    "afford.shape"
   ]
  },
  {
   "cell_type": "code",
   "execution_count": 32,
   "metadata": {},
   "outputs": [
    {
     "data": {
      "text/plain": [
       "(503, 35)"
      ]
     },
     "execution_count": 32,
     "metadata": {},
     "output_type": "execute_result"
    }
   ],
   "source": [
    "afford0.shape"
   ]
  },
  {
   "cell_type": "markdown",
   "metadata": {},
   "source": [
    "reduced from 35 to 15 variables"
   ]
  },
  {
   "cell_type": "code",
   "execution_count": 49,
   "metadata": {},
   "outputs": [
    {
     "data": {
      "text/html": [
       "<div>\n",
       "<style scoped>\n",
       "    .dataframe tbody tr th:only-of-type {\n",
       "        vertical-align: middle;\n",
       "    }\n",
       "\n",
       "    .dataframe tbody tr th {\n",
       "        vertical-align: top;\n",
       "    }\n",
       "\n",
       "    .dataframe thead th {\n",
       "        text-align: right;\n",
       "    }\n",
       "</style>\n",
       "<table border=\"1\" class=\"dataframe\">\n",
       "  <thead>\n",
       "    <tr style=\"text-align: right;\">\n",
       "      <th></th>\n",
       "      <th>site_units</th>\n",
       "      <th>community</th>\n",
       "      <th>name</th>\n",
       "      <th>leverage</th>\n",
       "      <th>latitude</th>\n",
       "      <th>project_number</th>\n",
       "      <th>hcidla_funded</th>\n",
       "      <th>gps_coords</th>\n",
       "      <th>longitude</th>\n",
       "      <th>date_funded</th>\n",
       "      <th>construction_type</th>\n",
       "      <th>in_service_date</th>\n",
       "      <th>address</th>\n",
       "      <th>project_total_units</th>\n",
       "      <th>housing_type</th>\n",
       "    </tr>\n",
       "  </thead>\n",
       "  <tbody>\n",
       "    <tr>\n",
       "      <th>0</th>\n",
       "      <td>0</td>\n",
       "      <td>CENTRAL</td>\n",
       "      <td>LEXINGTON APARTMENTS A/B (SITE 11)</td>\n",
       "      <td>6771719.0</td>\n",
       "      <td>34.02133</td>\n",
       "      <td>05-117217</td>\n",
       "      <td>0</td>\n",
       "      <td>(34.02133,-118.25561)</td>\n",
       "      <td>-118.25561</td>\n",
       "      <td>2005-12-28T00:00:00</td>\n",
       "      <td>REHAB</td>\n",
       "      <td>2006</td>\n",
       "      <td>1145 E 24TH ST  Los Angeles, CA 90011</td>\n",
       "      <td>251</td>\n",
       "      <td>FAMILY</td>\n",
       "    </tr>\n",
       "    <tr>\n",
       "      <th>1</th>\n",
       "      <td>8</td>\n",
       "      <td>CENTURY PALMS/COVE</td>\n",
       "      <td>WINDWARD APTS (A/B) (SITE 14)</td>\n",
       "      <td>7438473.0</td>\n",
       "      <td>33.93817</td>\n",
       "      <td>06-117222</td>\n",
       "      <td>0</td>\n",
       "      <td>(33.93817,-118.26374)</td>\n",
       "      <td>-118.26374</td>\n",
       "      <td>2006-04-01T00:00:00</td>\n",
       "      <td>REHAB</td>\n",
       "      <td>2007</td>\n",
       "      <td>636 E 108TH ST 1-4  Los Angeles, CA 90059</td>\n",
       "      <td>232</td>\n",
       "      <td>FAMILY</td>\n",
       "    </tr>\n",
       "    <tr>\n",
       "      <th>2</th>\n",
       "      <td>16</td>\n",
       "      <td>HOLLYWOOD</td>\n",
       "      <td>BRICKER</td>\n",
       "      <td>6465419.0</td>\n",
       "      <td>34.10127</td>\n",
       "      <td>60057</td>\n",
       "      <td>627878</td>\n",
       "      <td>(34.10127,-118.30957)</td>\n",
       "      <td>-118.30957</td>\n",
       "      <td>2007-02-24T00:00:00</td>\n",
       "      <td>ACQUISITION + REHAB</td>\n",
       "      <td>2011</td>\n",
       "      <td>1671 N WESTERN AVE  Los Angeles, CA 90028</td>\n",
       "      <td>16</td>\n",
       "      <td>SENIORS</td>\n",
       "    </tr>\n",
       "    <tr>\n",
       "      <th>3</th>\n",
       "      <td>20</td>\n",
       "      <td>UNIVERSITY PARK</td>\n",
       "      <td>HDR I &amp; II (SITE 4)</td>\n",
       "      <td>8116043.0</td>\n",
       "      <td>34.03158</td>\n",
       "      <td>07-117233</td>\n",
       "      <td>0</td>\n",
       "      <td>(34.03158,-118.28106)</td>\n",
       "      <td>-118.28106</td>\n",
       "      <td>2007-07-01T00:00:00</td>\n",
       "      <td>REHAB</td>\n",
       "      <td>2008</td>\n",
       "      <td>2375 S SCARFF ST  Los Angeles, CA 90007</td>\n",
       "      <td>125</td>\n",
       "      <td>FAMILY</td>\n",
       "    </tr>\n",
       "    <tr>\n",
       "      <th>4</th>\n",
       "      <td>16</td>\n",
       "      <td>KOREATOWN</td>\n",
       "      <td>ALEXANDRIA HOUSE APTS.</td>\n",
       "      <td>5928306.0</td>\n",
       "      <td>34.06506</td>\n",
       "      <td>80050</td>\n",
       "      <td>800000</td>\n",
       "      <td>(34.06506,-118.29775)</td>\n",
       "      <td>-118.29775</td>\n",
       "      <td>2008-11-21T00:00:00</td>\n",
       "      <td>REHAB</td>\n",
       "      <td>2010</td>\n",
       "      <td>510 S ALEXANDRIA AVE 1-20  Los Angeles, CA 90020</td>\n",
       "      <td>16</td>\n",
       "      <td>SPECIAL NEEDS</td>\n",
       "    </tr>\n",
       "  </tbody>\n",
       "</table>\n",
       "</div>"
      ],
      "text/plain": [
       "  site_units           community                                name  \\\n",
       "0          0             CENTRAL  LEXINGTON APARTMENTS A/B (SITE 11)   \n",
       "1          8  CENTURY PALMS/COVE       WINDWARD APTS (A/B) (SITE 14)   \n",
       "2         16           HOLLYWOOD                             BRICKER   \n",
       "3         20     UNIVERSITY PARK                 HDR I & II (SITE 4)   \n",
       "4         16           KOREATOWN              ALEXANDRIA HOUSE APTS.   \n",
       "\n",
       "    leverage  latitude project_number hcidla_funded             gps_coords  \\\n",
       "0  6771719.0  34.02133      05-117217             0  (34.02133,-118.25561)   \n",
       "1  7438473.0  33.93817      06-117222             0  (33.93817,-118.26374)   \n",
       "2  6465419.0  34.10127          60057        627878  (34.10127,-118.30957)   \n",
       "3  8116043.0  34.03158      07-117233             0  (34.03158,-118.28106)   \n",
       "4  5928306.0  34.06506          80050        800000  (34.06506,-118.29775)   \n",
       "\n",
       "    longitude          date_funded    construction_type in_service_date  \\\n",
       "0  -118.25561  2005-12-28T00:00:00                REHAB            2006   \n",
       "1  -118.26374  2006-04-01T00:00:00                REHAB            2007   \n",
       "2  -118.30957  2007-02-24T00:00:00  ACQUISITION + REHAB            2011   \n",
       "3  -118.28106  2007-07-01T00:00:00                REHAB            2008   \n",
       "4  -118.29775  2008-11-21T00:00:00                REHAB            2010   \n",
       "\n",
       "                                            address project_total_units  \\\n",
       "0             1145 E 24TH ST  Los Angeles, CA 90011                 251   \n",
       "1         636 E 108TH ST 1-4  Los Angeles, CA 90059                 232   \n",
       "2         1671 N WESTERN AVE  Los Angeles, CA 90028                  16   \n",
       "3           2375 S SCARFF ST  Los Angeles, CA 90007                 125   \n",
       "4  510 S ALEXANDRIA AVE 1-20  Los Angeles, CA 90020                  16   \n",
       "\n",
       "    housing_type  \n",
       "0         FAMILY  \n",
       "1         FAMILY  \n",
       "2        SENIORS  \n",
       "3         FAMILY  \n",
       "4  SPECIAL NEEDS  "
      ]
     },
     "execution_count": 49,
     "metadata": {},
     "output_type": "execute_result"
    }
   ],
   "source": [
    "afford.head()"
   ]
  },
  {
   "cell_type": "code",
   "execution_count": null,
   "metadata": {},
   "outputs": [],
   "source": []
  },
  {
   "cell_type": "code",
   "execution_count": null,
   "metadata": {},
   "outputs": [],
   "source": []
  },
  {
   "cell_type": "code",
   "execution_count": null,
   "metadata": {},
   "outputs": [],
   "source": []
  },
  {
   "cell_type": "code",
   "execution_count": null,
   "metadata": {},
   "outputs": [],
   "source": []
  },
  {
   "cell_type": "code",
   "execution_count": null,
   "metadata": {},
   "outputs": [],
   "source": []
  }
 ],
 "metadata": {
  "kernelspec": {
   "display_name": "Python 3",
   "language": "python",
   "name": "python3"
  },
  "language_info": {
   "codemirror_mode": {
    "name": "ipython",
    "version": 3
   },
   "file_extension": ".py",
   "mimetype": "text/x-python",
   "name": "python",
   "nbconvert_exporter": "python",
   "pygments_lexer": "ipython3",
   "version": "3.8.5"
  },
  "toc": {
   "base_numbering": 1,
   "nav_menu": {},
   "number_sections": true,
   "sideBar": true,
   "skip_h1_title": false,
   "title_cell": "Table of Contents",
   "title_sidebar": "Contents",
   "toc_cell": false,
   "toc_position": {},
   "toc_section_display": true,
   "toc_window_display": false
  }
 },
 "nbformat": 4,
 "nbformat_minor": 4
}
